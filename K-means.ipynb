{
 "cells": [
  {
   "cell_type": "code",
   "execution_count": 278,
   "metadata": {},
   "outputs": [],
   "source": [
    "import csv\n",
    "import pandas as pd\n",
    "from scipy.spatial import distance\n",
    "import math\n",
    "import random\n",
    "from copy import deepcopy\n",
    "import numpy as np\n",
    "from matplotlib import pyplot as plt\n",
    "import seaborn as sns\n",
    "from statistics import mean "
   ]
  },
  {
   "cell_type": "markdown",
   "metadata": {},
   "source": [
    "K means function. It takes as input k (number of clusters we want to find) and l (a list with the coordinates of all the points). <br>\n",
    "I create two lists such that:<br>\n",
    "means = [[ID numbers of means], [coordinate of means]] <br>\n",
    "points = [[coordinate of points], [ID numbers of the belonging mean]] <br>\n",
    "If we pass inertia = True the function will return the inertia of the points after the clustering process."
   ]
  },
  {
   "cell_type": "code",
   "execution_count": 137,
   "metadata": {},
   "outputs": [],
   "source": [
    "def kmeans(k, l, inertia = False):\n",
    "    p1 = [[],[]]      # points[0] = list of the coordinates of the points \\\\ points[1] = list of the ID number of the belonging cluster\n",
    "    m1 = [[],[]]       # means[0] = list of ID number of the means \\\\ means[1] = list of  coordinates of the means\n",
    "    for i in l:\n",
    "        p1[0].append(i)\n",
    "        p1[1].append(-1)\n",
    "        \n",
    "    for j in range(k):\n",
    "        m1[0].append(j)\n",
    "        m1[1].append(list(random.choice(l)))\n",
    "        \n",
    "    for c in range(300):    #set a max counter for how many times we iterate the process \n",
    "        m0 = deepcopy(m1)\n",
    "        p0 = deepcopy(p1)\n",
    "\n",
    "        #assignment\n",
    "        for i in range(len(p0[0])):\n",
    "            dist = math.inf\n",
    "            for k in range(len(m0[0])):\n",
    "                d = distance.euclidean(p0[0][i], m0[1][k])          #for some reason at high k there are NaN's in m0[1]\n",
    "                if (d < dist):  #For each point calculate the distance between the point and each mean.\n",
    "                    dist = d\n",
    "                    p1[1][i] = m0[0][k]\n",
    "    \n",
    "        #update\n",
    "        for k in range(len(m1[0])):\n",
    "            index = 0\n",
    "            c = np.zeros(len(p1[0][0]))\n",
    "            for i in range(len(p1[1])):\n",
    "                if (int(p1[1][i]) == int(m1[0][k])):\n",
    "                    index += 1\n",
    "                    c += np.array(p1[0][i])\n",
    "            if index==0:\n",
    "                print(\"errore\")\n",
    "            m1[1][k] = list(c / index)\n",
    "        if (p1[1] == p0[1]):\n",
    "            break\n",
    "    \n",
    "    \n",
    "    if inertia == True:\n",
    "        iner = 0\n",
    "        for i in range(len(p1[0])):\n",
    "            for k in range(len(m1[0])):\n",
    "                if p1[1][i] == m1[0][k]:\n",
    "                    iner += distance.euclidean(p1[0][i], m1[1][k])\n",
    "        return (iner)\n",
    "      \n",
    "    return (m1, p1)"
   ]
  },
  {
   "cell_type": "markdown",
   "metadata": {},
   "source": [
    "I make a list with the coordinates of each point (wine) to pass to the function \"kmeans\"."
   ]
  },
  {
   "cell_type": "code",
   "execution_count": 205,
   "metadata": {},
   "outputs": [],
   "source": [
    "l = []\n",
    "\n",
    "with open(r'C:\\Users\\39335\\Desktop\\GitHub\\Notes\\wine.data') as file:\n",
    "    reader = csv.reader(file)    \n",
    "    # Make a list to pass to the kmeans funciton\n",
    "    for row in reader:\n",
    "        row.pop(0)\n",
    "        row = list(map(float, row))  #make all the coordinates floats \n",
    "        l.append(row)"
   ]
  },
  {
   "cell_type": "markdown",
   "metadata": {},
   "source": [
    "Now we run the function kmeans. It returns the lists <br> \n",
    "means = [[ID numbers of means], [coordinate of means]] <br>\n",
    "points = [[coordinate of points], [ID numbers of the belonging mean]]"
   ]
  },
  {
   "cell_type": "code",
   "execution_count": 206,
   "metadata": {},
   "outputs": [
    {
     "name": "stdout",
     "output_type": "stream",
     "text": [
      "[3, 3, 2, 2, 1, 2, 2, 2, 3, 3, 2, 2, 2, 2, 2, 2, 2, 3, 2, 3, 1, 1, 3, 3, 3, 3, 2, 2, 3, 3, 2, 2, 3, 2, 3, 3, 3, 3, 3, 1, 1, 3, 3, 1, 3, 3, 3, 3, 3, 2, 2, 2, 2, 2, 3, 3, 3, 2, 2, 0, 1, 0, 1, 0, 0, 1, 0, 0, 1, 1, 3, 0, 0, 3, 3, 0, 0, 0, 1, 0, 0, 1, 1, 0, 0, 0, 0, 1, 1, 1, 0, 0, 0, 0, 0, 3, 1, 0, 1, 0, 1, 1, 0, 0, 1, 0, 0, 0, 0, 1, 1, 0, 1, 0, 0, 0, 0, 0, 0, 1, 1, 0, 0, 0, 0, 0, 0, 0, 0, 1, 1, 0, 1, 1, 1, 1, 1, 0, 1, 1, 1, 1, 0, 1, 3, 3, 0, 1, 1, 1, 0, 0, 0, 1, 1, 1, 0, 3, 1, 1, 0, 1, 1, 1, 1, 0, 1, 1, 1, 1, 0, 0, 1, 1, 1, 3, 3, 1]\n"
     ]
    }
   ],
   "source": [
    "N = 4\n",
    "print(kmeans(N, l)[1][1])"
   ]
  },
  {
   "cell_type": "markdown",
   "metadata": {},
   "source": [
    "Compare the results we obtained with the result of sklearn.cluster.KMeans"
   ]
  },
  {
   "cell_type": "code",
   "execution_count": 85,
   "metadata": {},
   "outputs": [],
   "source": [
    "from sklearn.cluster import KMeans"
   ]
  },
  {
   "cell_type": "code",
   "execution_count": 86,
   "metadata": {},
   "outputs": [
    {
     "data": {
      "text/plain": [
       "array([0, 0, 2, 2, 3, 2, 2, 2, 0, 0, 2, 2, 2, 0, 2, 2, 2, 0, 2, 0, 3, 3,\n",
       "       0, 0, 0, 0, 2, 2, 0, 0, 2, 2, 0, 2, 0, 0, 0, 0, 0, 3, 3, 0, 0, 3,\n",
       "       0, 0, 0, 0, 0, 2, 0, 2, 2, 2, 0, 0, 0, 2, 2, 1, 3, 1, 3, 1, 1, 3,\n",
       "       1, 1, 3, 3, 0, 1, 1, 0, 0, 1, 1, 1, 3, 1, 1, 3, 3, 1, 1, 1, 1, 3,\n",
       "       3, 3, 1, 1, 1, 1, 1, 0, 3, 1, 3, 1, 3, 3, 1, 1, 3, 1, 1, 1, 1, 3,\n",
       "       3, 1, 3, 1, 1, 1, 1, 1, 1, 3, 3, 1, 1, 1, 1, 1, 1, 1, 1, 3, 3, 1,\n",
       "       3, 3, 3, 3, 3, 1, 3, 3, 3, 3, 1, 1, 0, 0, 1, 3, 3, 1, 1, 1, 1, 3,\n",
       "       3, 3, 1, 0, 3, 3, 1, 3, 3, 3, 3, 1, 3, 3, 3, 3, 1, 1, 3, 3, 3, 0,\n",
       "       0, 3])"
      ]
     },
     "execution_count": 86,
     "metadata": {},
     "output_type": "execute_result"
    }
   ],
   "source": [
    "clustering = KMeans(n_clusters=N, init=\"random\",  max_iter=500).fit(l)\n",
    "clustering.predict(l)"
   ]
  },
  {
   "cell_type": "markdown",
   "metadata": {},
   "source": [
    "The cluster are similar, that means that the kmeans function we wrote is working.\n",
    "Now we want to find the right number of clusters using the elbow method."
   ]
  },
  {
   "cell_type": "code",
   "execution_count": 139,
   "metadata": {},
   "outputs": [],
   "source": [
    "ine = []\n",
    "k = []\n",
    "for i in range(1,10):\n",
    "    ine.append(kmeans(i, l, inertia=True))\n",
    "    k.append(i)"
   ]
  },
  {
   "cell_type": "code",
   "execution_count": 140,
   "metadata": {},
   "outputs": [
    {
     "data": {
      "text/plain": [
       "[<matplotlib.lines.Line2D at 0x29f1ec26688>]"
      ]
     },
     "execution_count": 140,
     "metadata": {},
     "output_type": "execute_result"
    },
    {
     "data": {
      "image/png": "[encoded data removed]",
      "text/plain": [
       "<Figure size 432x288 with 1 Axes>"
      ]
     },
     "metadata": {
      "needs_background": "light"
     },
     "output_type": "display_data"
    }
   ],
   "source": [
    "plt.plot(k, ine)"
   ]
  },
  {
   "cell_type": "markdown",
   "metadata": {},
   "source": [
    "It looks like the optimal number of cluster is 4.\n"
   ]
  },
  {
   "cell_type": "markdown",
   "metadata": {},
   "source": [
    "Now we want to analyse the components to understand what are the ones that are more important in the decision of the clusters. <br>\n",
    "To do this we'll need to make a dataframe with the data of the wines."
   ]
  },
  {
   "cell_type": "code",
   "execution_count": 288,
   "metadata": {},
   "outputs": [],
   "source": [
    "with open(r'C:\\Users\\39335\\Desktop\\GitHub\\Notes\\wine.data') as file:\n",
    "    reader = csv.reader(file)\n",
    "    \n",
    "    # Make a data frame, we'll need this for the visualization\n",
    "    col = [\"Cultivator\", \"Alcohol\", \"Malic acid\", \"Ash\", \"Alcalinity of ash\", \"Magnesium\", \"Total phenols\", \"Flavanoids\", \"Nonflavanoid phenols\", \"Proanthocyanins\", \"Color intensity\", \"Hue\", \"OD280/OD315 of diluted wines\", \"Proline\"]\n",
    "    data = pd.DataFrame(reader, columns=col)"
   ]
  },
  {
   "cell_type": "markdown",
   "metadata": {},
   "source": [
    "Add the belonging cluster to the dataframe"
   ]
  },
  {
   "cell_type": "code",
   "execution_count": 289,
   "metadata": {},
   "outputs": [],
   "source": [
    "data[\"Cluster\"] = kmeans(N, l)[1][1]"
   ]
  },
  {
   "cell_type": "code",
   "execution_count": 290,
   "metadata": {},
   "outputs": [
    {
     "data": {
      "text/html": [
       "<div>\n",
       "<style scoped>\n",
       "    .dataframe tbody tr th:only-of-type {\n",
       "        vertical-align: middle;\n",
       "    }\n",
       "\n",
       "    .dataframe tbody tr th {\n",
       "        vertical-align: top;\n",
       "    }\n",
       "\n",
       "    .dataframe thead th {\n",
       "        text-align: right;\n",
       "    }\n",
       "</style>\n",
       "<table border=\"1\" class=\"dataframe\">\n",
       "  <thead>\n",
       "    <tr style=\"text-align: right;\">\n",
       "      <th></th>\n",
       "      <th>Cultivator</th>\n",
       "      <th>Alcohol</th>\n",
       "      <th>Malic acid</th>\n",
       "      <th>Ash</th>\n",
       "      <th>Alcalinity of ash</th>\n",
       "      <th>Magnesium</th>\n",
       "      <th>Total phenols</th>\n",
       "      <th>Flavanoids</th>\n",
       "      <th>Nonflavanoid phenols</th>\n",
       "      <th>Proanthocyanins</th>\n",
       "      <th>Color intensity</th>\n",
       "      <th>Hue</th>\n",
       "      <th>OD280/OD315 of diluted wines</th>\n",
       "      <th>Proline</th>\n",
       "      <th>Cluster</th>\n",
       "    </tr>\n",
       "  </thead>\n",
       "  <tbody>\n",
       "    <tr>\n",
       "      <td>0</td>\n",
       "      <td>1</td>\n",
       "      <td>14.23</td>\n",
       "      <td>1.71</td>\n",
       "      <td>2.43</td>\n",
       "      <td>15.6</td>\n",
       "      <td>127</td>\n",
       "      <td>2.8</td>\n",
       "      <td>3.06</td>\n",
       "      <td>.28</td>\n",
       "      <td>2.29</td>\n",
       "      <td>5.64</td>\n",
       "      <td>1.04</td>\n",
       "      <td>3.92</td>\n",
       "      <td>1065</td>\n",
       "      <td>3</td>\n",
       "    </tr>\n",
       "    <tr>\n",
       "      <td>1</td>\n",
       "      <td>1</td>\n",
       "      <td>13.2</td>\n",
       "      <td>1.78</td>\n",
       "      <td>2.14</td>\n",
       "      <td>11.2</td>\n",
       "      <td>100</td>\n",
       "      <td>2.65</td>\n",
       "      <td>2.76</td>\n",
       "      <td>.26</td>\n",
       "      <td>1.28</td>\n",
       "      <td>4.38</td>\n",
       "      <td>1.05</td>\n",
       "      <td>3.4</td>\n",
       "      <td>1050</td>\n",
       "      <td>3</td>\n",
       "    </tr>\n",
       "    <tr>\n",
       "      <td>2</td>\n",
       "      <td>1</td>\n",
       "      <td>13.16</td>\n",
       "      <td>2.36</td>\n",
       "      <td>2.67</td>\n",
       "      <td>18.6</td>\n",
       "      <td>101</td>\n",
       "      <td>2.8</td>\n",
       "      <td>3.24</td>\n",
       "      <td>.3</td>\n",
       "      <td>2.81</td>\n",
       "      <td>5.68</td>\n",
       "      <td>1.03</td>\n",
       "      <td>3.17</td>\n",
       "      <td>1185</td>\n",
       "      <td>2</td>\n",
       "    </tr>\n",
       "    <tr>\n",
       "      <td>3</td>\n",
       "      <td>1</td>\n",
       "      <td>14.37</td>\n",
       "      <td>1.95</td>\n",
       "      <td>2.5</td>\n",
       "      <td>16.8</td>\n",
       "      <td>113</td>\n",
       "      <td>3.85</td>\n",
       "      <td>3.49</td>\n",
       "      <td>.24</td>\n",
       "      <td>2.18</td>\n",
       "      <td>7.8</td>\n",
       "      <td>.86</td>\n",
       "      <td>3.45</td>\n",
       "      <td>1480</td>\n",
       "      <td>2</td>\n",
       "    </tr>\n",
       "    <tr>\n",
       "      <td>4</td>\n",
       "      <td>1</td>\n",
       "      <td>13.24</td>\n",
       "      <td>2.59</td>\n",
       "      <td>2.87</td>\n",
       "      <td>21</td>\n",
       "      <td>118</td>\n",
       "      <td>2.8</td>\n",
       "      <td>2.69</td>\n",
       "      <td>.39</td>\n",
       "      <td>1.82</td>\n",
       "      <td>4.32</td>\n",
       "      <td>1.04</td>\n",
       "      <td>2.93</td>\n",
       "      <td>735</td>\n",
       "      <td>1</td>\n",
       "    </tr>\n",
       "    <tr>\n",
       "      <td>...</td>\n",
       "      <td>...</td>\n",
       "      <td>...</td>\n",
       "      <td>...</td>\n",
       "      <td>...</td>\n",
       "      <td>...</td>\n",
       "      <td>...</td>\n",
       "      <td>...</td>\n",
       "      <td>...</td>\n",
       "      <td>...</td>\n",
       "      <td>...</td>\n",
       "      <td>...</td>\n",
       "      <td>...</td>\n",
       "      <td>...</td>\n",
       "      <td>...</td>\n",
       "      <td>...</td>\n",
       "    </tr>\n",
       "    <tr>\n",
       "      <td>173</td>\n",
       "      <td>3</td>\n",
       "      <td>13.71</td>\n",
       "      <td>5.65</td>\n",
       "      <td>2.45</td>\n",
       "      <td>20.5</td>\n",
       "      <td>95</td>\n",
       "      <td>1.68</td>\n",
       "      <td>.61</td>\n",
       "      <td>.52</td>\n",
       "      <td>1.06</td>\n",
       "      <td>7.7</td>\n",
       "      <td>.64</td>\n",
       "      <td>1.74</td>\n",
       "      <td>740</td>\n",
       "      <td>1</td>\n",
       "    </tr>\n",
       "    <tr>\n",
       "      <td>174</td>\n",
       "      <td>3</td>\n",
       "      <td>13.4</td>\n",
       "      <td>3.91</td>\n",
       "      <td>2.48</td>\n",
       "      <td>23</td>\n",
       "      <td>102</td>\n",
       "      <td>1.8</td>\n",
       "      <td>.75</td>\n",
       "      <td>.43</td>\n",
       "      <td>1.41</td>\n",
       "      <td>7.3</td>\n",
       "      <td>.7</td>\n",
       "      <td>1.56</td>\n",
       "      <td>750</td>\n",
       "      <td>1</td>\n",
       "    </tr>\n",
       "    <tr>\n",
       "      <td>175</td>\n",
       "      <td>3</td>\n",
       "      <td>13.27</td>\n",
       "      <td>4.28</td>\n",
       "      <td>2.26</td>\n",
       "      <td>20</td>\n",
       "      <td>120</td>\n",
       "      <td>1.59</td>\n",
       "      <td>.69</td>\n",
       "      <td>.43</td>\n",
       "      <td>1.35</td>\n",
       "      <td>10.2</td>\n",
       "      <td>.59</td>\n",
       "      <td>1.56</td>\n",
       "      <td>835</td>\n",
       "      <td>3</td>\n",
       "    </tr>\n",
       "    <tr>\n",
       "      <td>176</td>\n",
       "      <td>3</td>\n",
       "      <td>13.17</td>\n",
       "      <td>2.59</td>\n",
       "      <td>2.37</td>\n",
       "      <td>20</td>\n",
       "      <td>120</td>\n",
       "      <td>1.65</td>\n",
       "      <td>.68</td>\n",
       "      <td>.53</td>\n",
       "      <td>1.46</td>\n",
       "      <td>9.3</td>\n",
       "      <td>.6</td>\n",
       "      <td>1.62</td>\n",
       "      <td>840</td>\n",
       "      <td>3</td>\n",
       "    </tr>\n",
       "    <tr>\n",
       "      <td>177</td>\n",
       "      <td>3</td>\n",
       "      <td>14.13</td>\n",
       "      <td>4.1</td>\n",
       "      <td>2.74</td>\n",
       "      <td>24.5</td>\n",
       "      <td>96</td>\n",
       "      <td>2.05</td>\n",
       "      <td>.76</td>\n",
       "      <td>.56</td>\n",
       "      <td>1.35</td>\n",
       "      <td>9.2</td>\n",
       "      <td>.61</td>\n",
       "      <td>1.6</td>\n",
       "      <td>560</td>\n",
       "      <td>1</td>\n",
       "    </tr>\n",
       "  </tbody>\n",
       "</table>\n",
       "<p>178 rows × 15 columns</p>\n",
       "</div>"
      ],
      "text/plain": [
       "    Cultivator Alcohol Malic acid   Ash Alcalinity of ash Magnesium  \\\n",
       "0            1   14.23       1.71  2.43              15.6       127   \n",
       "1            1    13.2       1.78  2.14              11.2       100   \n",
       "2            1   13.16       2.36  2.67              18.6       101   \n",
       "3            1   14.37       1.95   2.5              16.8       113   \n",
       "4            1   13.24       2.59  2.87                21       118   \n",
       "..         ...     ...        ...   ...               ...       ...   \n",
       "173          3   13.71       5.65  2.45              20.5        95   \n",
       "174          3    13.4       3.91  2.48                23       102   \n",
       "175          3   13.27       4.28  2.26                20       120   \n",
       "176          3   13.17       2.59  2.37                20       120   \n",
       "177          3   14.13        4.1  2.74              24.5        96   \n",
       "\n",
       "    Total phenols Flavanoids Nonflavanoid phenols Proanthocyanins  \\\n",
       "0             2.8       3.06                  .28            2.29   \n",
       "1            2.65       2.76                  .26            1.28   \n",
       "2             2.8       3.24                   .3            2.81   \n",
       "3            3.85       3.49                  .24            2.18   \n",
       "4             2.8       2.69                  .39            1.82   \n",
       "..            ...        ...                  ...             ...   \n",
       "173          1.68        .61                  .52            1.06   \n",
       "174           1.8        .75                  .43            1.41   \n",
       "175          1.59        .69                  .43            1.35   \n",
       "176          1.65        .68                  .53            1.46   \n",
       "177          2.05        .76                  .56            1.35   \n",
       "\n",
       "    Color intensity   Hue OD280/OD315 of diluted wines Proline  Cluster  \n",
       "0              5.64  1.04                         3.92    1065        3  \n",
       "1              4.38  1.05                          3.4    1050        3  \n",
       "2              5.68  1.03                         3.17    1185        2  \n",
       "3               7.8   .86                         3.45    1480        2  \n",
       "4              4.32  1.04                         2.93     735        1  \n",
       "..              ...   ...                          ...     ...      ...  \n",
       "173             7.7   .64                         1.74     740        1  \n",
       "174             7.3    .7                         1.56     750        1  \n",
       "175            10.2   .59                         1.56     835        3  \n",
       "176             9.3    .6                         1.62     840        3  \n",
       "177             9.2   .61                          1.6     560        1  \n",
       "\n",
       "[178 rows x 15 columns]"
      ]
     },
     "execution_count": 290,
     "metadata": {},
     "output_type": "execute_result"
    }
   ],
   "source": [
    "data"
   ]
  },
  {
   "cell_type": "markdown",
   "metadata": {},
   "source": [
    "To understand what are the important features we will plot the mean of each feature for each of the 4 clusters. <br>\n",
    "We drop the \"Cultivator\" column because we don't need it and split the dataframe for each cluster."
   ]
  },
  {
   "cell_type": "code",
   "execution_count": 291,
   "metadata": {},
   "outputs": [],
   "source": [
    "data = data.drop(columns = \"Cultivator\")\n",
    "data0 = data[data['Cluster'] == 0]\n",
    "data0 = data0.drop(columns = \"Cluster\")\n",
    "data1 = data[data['Cluster'] == 1]\n",
    "data1 = data1.drop(columns = \"Cluster\")\n",
    "data2 = data[data['Cluster'] == 2]\n",
    "data2 = data2.drop(columns = \"Cluster\")\n",
    "data3 = data[data['Cluster'] == 3]\n",
    "data3 = data3.drop(columns = \"Cluster\")"
   ]
  },
  {
   "cell_type": "markdown",
   "metadata": {},
   "source": [
    "We take the mean of each column."
   ]
  },
  {
   "cell_type": "code",
   "execution_count": 308,
   "metadata": {},
   "outputs": [],
   "source": [
    "feat_means = []\n",
    "means = []\n",
    "for i in range(1,len(col)):\n",
    "    m = []\n",
    "    for k in range(N):\n",
    "        name = globals()[\"data\" + str(k)][col[i]]\n",
    "        lfloat = map(float,list(name))\n",
    "        m.append(mean(lfloat))\n",
    "    means.append(m)"
   ]
  },
  {
   "cell_type": "markdown",
   "metadata": {},
   "source": [
    "Make a barplot of the mean of each feature of each cluster."
   ]
  },
  {
   "cell_type": "code",
   "execution_count": 309,
   "metadata": {},
   "outputs": [
    {
     "data": {
      "image/png": "[encoded data removed]",
      "text/plain": [
       "<Figure size 432x288 with 1 Axes>"
      ]
     },
     "metadata": {
      "needs_background": "light"
     },
     "output_type": "display_data"
    },
    {
     "data": {
      "image/png": "[encoded data removed]",
      "text/plain": [
       "<Figure size 432x288 with 1 Axes>"
      ]
     },
     "metadata": {
      "needs_background": "light"
     },
     "output_type": "display_data"
    },
    {
     "data": {
      "image/png": "[encoded data removed]",
      "text/plain": [
       "<Figure size 432x288 with 1 Axes>"
      ]
     },
     "metadata": {
      "needs_background": "light"
     },
     "output_type": "display_data"
    },
    {
     "data": {
      "image/png": "[encoded data removed]",
      "text/plain": [
       "<Figure size 432x288 with 1 Axes>"
      ]
     },
     "metadata": {
      "needs_background": "light"
     },
     "output_type": "display_data"
    },
    {
     "data": {
      "image/png": "[encoded data removed]",
      "text/plain": [
       "<Figure size 432x288 with 1 Axes>"
      ]
     },
     "metadata": {
      "needs_background": "light"
     },
     "output_type": "display_data"
    },
    {
     "data": {
      "image/png": "[encoded data removed]",
      "text/plain": [
       "<Figure size 432x288 with 1 Axes>"
      ]
     },
     "metadata": {
      "needs_background": "light"
     },
     "output_type": "display_data"
    },
    {
     "data": {
      "image/png": "[encoded data removed]",
      "text/plain": [
       "<Figure size 432x288 with 1 Axes>"
      ]
     },
     "metadata": {
      "needs_background": "light"
     },
     "output_type": "display_data"
    },
    {
     "data": {
      "image/png": "[encoded data removed]",
      "text/plain": [
       "<Figure size 432x288 with 1 Axes>"
      ]
     },
     "metadata": {
      "needs_background": "light"
     },
     "output_type": "display_data"
    },
    {
     "data": {
      "image/png": "[encoded data removed]",
      "text/plain": [
       "<Figure size 432x288 with 1 Axes>"
      ]
     },
     "metadata": {
      "needs_background": "light"
     },
     "output_type": "display_data"
    },
    {
     "data": {
      "image/png": "[encoded data removed]",
      "text/plain": [
       "<Figure size 432x288 with 1 Axes>"
      ]
     },
     "metadata": {
      "needs_background": "light"
     },
     "output_type": "display_data"
    },
    {
     "data": {
      "image/png": "[encoded data removed]",
      "text/plain": [
       "<Figure size 432x288 with 1 Axes>"
      ]
     },
     "metadata": {
      "needs_background": "light"
     },
     "output_type": "display_data"
    },
    {
     "data": {
      "image/png": "[encoded data removed]",
      "text/plain": [
       "<Figure size 432x288 with 1 Axes>"
      ]
     },
     "metadata": {
      "needs_background": "light"
     },
     "output_type": "display_data"
    },
    {
     "data": {
      "image/png": "[encoded data removed]",
      "text/plain": [
       "<Figure size 432x288 with 1 Axes>"
      ]
     },
     "metadata": {
      "needs_background": "light"
     },
     "output_type": "display_data"
    }
   ],
   "source": [
    "bars = [0,1,2,3]\n",
    "index = 1\n",
    "for height in means:\n",
    "    plt.title(col[index])\n",
    "    index += 1\n",
    "    y_pos = np.arange(len(bars))\n",
    "    plt.bar(y_pos, height)\n",
    "    plt.xticks(y_pos, bars)\n",
    "    plt.xlabel('Clusters')\n",
    "    plt.ylabel('Values')\n",
    "    plt.show()"
   ]
  },
  {
   "cell_type": "markdown",
   "metadata": {},
   "source": [
    "We can see that the features that most characterize the clusters are the ones with an higher difference of means. In our case they are: Flavanoids and Proline."
   ]
  },
  {
   "cell_type": "code",
   "execution_count": null,
   "metadata": {},
   "outputs": [],
   "source": []
  }
 ],
 "metadata": {
  "kernelspec": {
   "display_name": "Python 3",
   "language": "python",
   "name": "python3"
  },
  "language_info": {
   "codemirror_mode": {
    "name": "ipython",
    "version": 3
   },
   "file_extension": ".py",
   "mimetype": "text/x-python",
   "name": "python",
   "nbconvert_exporter": "python",
   "pygments_lexer": "ipython3",
   "version": "3.7.4"
  }
 },
 "nbformat": 4,
 "nbformat_minor": 2
}
