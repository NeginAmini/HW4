{
 "cells": [
  {
   "cell_type": "code",
   "execution_count": 52,
   "metadata": {},
   "outputs": [],
   "source": [
    "letters = ' AaBbCcDdEeFfGgHhIiJjKkLlMmNnOoPpQqRrSsTtUuVvWwXxYyZz' #we define our rule of priorisation of letters for the sort\n",
    "dic = {}\n",
    "for k in range(len(letters)):\n",
    "    dic[letters[k]] =k # we store every letter in a dictionary, with numbers as value\n",
    "  \n",
    "    "
   ]
  },
  {
   "cell_type": "markdown",
   "metadata": {},
   "source": [
    "## Question 1"
   ]
  },
  {
   "cell_type": "code",
   "execution_count": 49,
   "metadata": {},
   "outputs": [],
   "source": [
    "#define a function that will return the maximum number of a list\n",
    "def getmax_numbers(liste): \n",
    "    candidate = liste[0] #supposing the first element is the biggest element\n",
    "    for k in range(len(liste)): #comparing element to others element\n",
    "        if liste[k] >= candidate: \n",
    "            candidate = liste[k] #replace the candidate if we find an element bigger\n",
    "    return(candidate)"
   ]
  },
  {
   "cell_type": "code",
   "execution_count": 50,
   "metadata": {},
   "outputs": [],
   "source": [
    "import numpy as np\n",
    "# function that will sort number using counting_sort\n",
    "def sort_numbers(liste):    \n",
    "    a = getmax_numbers(liste) #get the max element, using previous function\n",
    "    liste_1 = []\n",
    "    i = 0\n",
    "    while i <= a: #filling list_1 with all the numbers inferior to max\n",
    "        liste_1.append(i)\n",
    "        i = i+1\n",
    "    liste_2 = np.zeros((i,1)) #defining the count array \n",
    "    for element in liste:\n",
    "        if element in liste_1: #we are counting the numbers of each element in the initial list\n",
    "            index = liste_1.index(element)\n",
    "            liste_2[index] += 1 #storing the count in the count array\n",
    "    \n",
    "    liste_finale= []\n",
    "    for i in range(len(liste_2)): #filling the list that we will return\n",
    "        for k in range(int(liste_2[i][0])):\n",
    "            liste_finale.append(liste_1[i])\n",
    "    return(liste_finale)\n",
    "            \n",
    "    \n"
   ]
  },
  {
   "cell_type": "markdown",
   "metadata": {},
   "source": [
    "## Question 2"
   ]
  },
  {
   "cell_type": "code",
   "execution_count": 46,
   "metadata": {},
   "outputs": [],
   "source": [
    "# same logic than the previous one. however, we using the dictionary to get the maximum in function of our rules\n",
    "def getmax_letters(liste): \n",
    "    candidate = liste[0]\n",
    "    for k in range(len(liste)):\n",
    "        if dic[liste[k]] >= dic[candidate]:\n",
    "            candidate = liste[k]\n",
    "    return(candidate)"
   ]
  },
  {
   "cell_type": "code",
   "execution_count": 47,
   "metadata": {},
   "outputs": [],
   "source": [
    "import numpy as np\n",
    "# function that will sort a list of letters, using the same logic than the previous one\n",
    "def sort_letters(liste):    \n",
    "    a = getmax_letters(liste)\n",
    "    liste_1 = []\n",
    "    i = 0\n",
    "    while i < 52 and dic[letters[i]] <= dic[a]:\n",
    "        liste_1.append(letters[i])\n",
    "        i = i+1\n",
    "    liste_2 = np.zeros((i,1))\n",
    "    for element in liste:\n",
    "        if element in liste_1:\n",
    "            index = liste_1.index(element)\n",
    "            liste_2[index] += 1 \n",
    "    \n",
    "    liste_finale= []\n",
    "    for i in range(len(liste_2)):\n",
    "        for k in range(int(liste_2[i][0])):\n",
    "            liste_finale.append(liste_1[i])\n",
    "    return(liste_finale)\n",
    "            \n",
    "    \n"
   ]
  },
  {
   "cell_type": "code",
   "execution_count": 48,
   "metadata": {},
   "outputs": [
    {
     "data": {
      "text/plain": [
       "['a', 'b', 'e', 'R', 'r', 'z']"
      ]
     },
     "execution_count": 48,
     "metadata": {},
     "output_type": "execute_result"
    }
   ],
   "source": [
    "liste = ['a','z', 'b', 'r', 'R', 'e']\n",
    "sort_letters(liste)"
   ]
  },
  {
   "cell_type": "markdown",
   "metadata": {},
   "source": [
    "## Question 3 "
   ]
  },
  {
   "cell_type": "code",
   "execution_count": 59,
   "metadata": {},
   "outputs": [],
   "source": [
    "# modifying the logic of the initial get_max function, adapting it to words sort. Function will return the maximum letter of a given indice\n",
    "def getmax(liste, indice): \n",
    "    candidate = liste[0]\n",
    "    for k in range(len(liste)):\n",
    "        if dic[liste[k][indice]] >= dic[candidate[indice]]:\n",
    "            candidate = liste[k]\n",
    "    return(candidate)"
   ]
  },
  {
   "cell_type": "code",
   "execution_count": 58,
   "metadata": {},
   "outputs": [],
   "source": [
    "# sorting the words list with respect to the 'indice' letter. \n",
    "def sort2(liste, indice):    \n",
    "    a = getmax(liste,indice)\n",
    "    liste_1 = []\n",
    "    i = 0\n",
    "    while i < 52 and dic[letters[i]] <= dic[a[indice]]:\n",
    "        liste_1.append(letters[i])\n",
    "        i = i+1\n",
    "    liste_2 = []\n",
    "    for k in range(i):\n",
    "        liste_2.append([])\n",
    "    for element in liste:\n",
    "        if element[indice] in liste_1:\n",
    "            index = liste_1.index(element[indice])\n",
    "            liste_2[index].append(element) \n",
    "    liste_final = []\n",
    "    for element in liste_2:\n",
    "        if len(element)> 0:\n",
    "            for elements in element:\n",
    "                liste_final.append(elements)\n",
    "    return liste_final\n"
   ]
  },
  {
   "cell_type": "code",
   "execution_count": 57,
   "metadata": {},
   "outputs": [],
   "source": [
    "# function that will split the a given list with respect to the 'indice' letter. All the words with the same 'indice' letter will be in a same list. Return a list of list\n",
    "def same_n_letter(liste, indice):\n",
    "    lst = []\n",
    "    finale = []\n",
    "    i = 0\n",
    "    while i < len(liste):\n",
    "        lst2 = []\n",
    "        element = liste[i]\n",
    "        while i<len(liste) and liste[i][indice] == element[indice]:\n",
    "            lst2.append(liste[i])\n",
    "            i = i+1\n",
    "        lst.append(lst2)\n",
    "    return(lst)"
   ]
  },
  {
   "cell_type": "code",
   "execution_count": 56,
   "metadata": {},
   "outputs": [],
   "source": [
    "# this function takes a liste and a number of letters as inputs. it will split the initial liste into lists of same 1,2..n letters and sort these list wrt the nth letter of the words\n",
    "def counting_sort(liste, number_letters): \n",
    "    liste = same_n_letter(sort2(liste,0),0)\n",
    "    i = 0\n",
    "    while i<number_letters : \n",
    "        n_liste = []\n",
    "        for element in liste:\n",
    "            element = sort2(element,i)\n",
    "            t = same_n_letter(element,i)\n",
    "            for k in t:\n",
    "                a= sort2(k,i)\n",
    "                n_liste.append(a)\n",
    "        liste = n_liste\n",
    "        i = i+1\n",
    "    finale = []\n",
    "    for element in n_liste:\n",
    "        finale += element\n",
    "    return(finale)\n",
    "\n",
    "\n"
   ]
  },
  {
   "cell_type": "code",
   "execution_count": 53,
   "metadata": {},
   "outputs": [],
   "source": [
    "# treat the words than contain less letters than the maximum number by adding a space character\n",
    "def long(string, n):\n",
    "    a = n - len(string)\n",
    "    for k in range(a):\n",
    "        string = string + ' '\n",
    "    return(string)\n",
    "\n",
    "    "
   ]
  },
  {
   "cell_type": "code",
   "execution_count": 61,
   "metadata": {},
   "outputs": [],
   "source": [
    "# for each word of len < numbermax, using the function above. Then we sort the list using previous function then we turn the modified word to their initial form\n",
    "def count_sort(liste, numbermax):   \n",
    "    dic_element = {}\n",
    "    for k in range(len(liste)):\n",
    "        if len(liste[k])<numbermax:\n",
    "            dic_element[long(liste[k], numbermax)] = liste[k]\n",
    "            liste[k] = long(liste[k], numbermax)\n",
    "    liste = counting_sort(liste,numbermax)\n",
    "    for k in range(len(liste)):\n",
    "        if liste[k] in dic_element.keys():\n",
    "            a = dic_element[liste[k]]\n",
    "            liste[k] = a\n",
    "    return liste\n",
    "        \n",
    "    \n"
   ]
  },
  {
   "cell_type": "code",
   "execution_count": null,
   "metadata": {},
   "outputs": [],
   "source": []
  },
  {
   "cell_type": "code",
   "execution_count": null,
   "metadata": {},
   "outputs": [],
   "source": []
  }
 ],
 "metadata": {
  "kernelspec": {
   "display_name": "Python 3",
   "language": "python",
   "name": "python3"
  },
  "language_info": {
   "codemirror_mode": {
    "name": "ipython",
    "version": 3
   },
   "file_extension": ".py",
   "mimetype": "text/x-python",
   "name": "python",
   "nbconvert_exporter": "python",
   "pygments_lexer": "ipython3",
   "version": "3.7.3"
  }
 },
 "nbformat": 4,
 "nbformat_minor": 4
}
