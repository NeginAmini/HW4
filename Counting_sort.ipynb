{
 "cells": [
  {
   "cell_type": "code",
   "execution_count": 244,
   "metadata": {},
   "outputs": [],
   "source": [
    "letters = 'abcdefghijklmnopqrstuvwxyz'\n",
    "letters1 = 'ABCDEFGHIJKLMNOPQRSTUVWXYZ'"
   ]
  },
  {
   "cell_type": "code",
   "execution_count": 247,
   "metadata": {},
   "outputs": [],
   "source": [
    "dic = {}\n",
    "for k in range(len(letters)):\n",
    "    dic[letters[k]] =k\n",
    "for k in range(len(letters)):\n",
    "    dic[letters1[k]] =k    "
   ]
  },
  {
   "cell_type": "code",
   "execution_count": null,
   "metadata": {},
   "outputs": [],
   "source": []
  },
  {
   "cell_type": "code",
   "execution_count": 248,
   "metadata": {},
   "outputs": [],
   "source": [
    "def tri(tab):\n",
    "    candidate = 0\n",
    "    indice = 0\n",
    "    for k in range(len(tab)):\n",
    "        candidate = tab[k]\n",
    "        for i in range(k, len(tab)):\n",
    "            if tab[i]<= candidate:\n",
    "                candidate = tab[i]\n",
    "                indice = i\n",
    "        u = tab[k]\n",
    "        tab[k] = tab[indice]; \n",
    "        tab[indice] = u;\n",
    "    return tab\n",
    "        \n",
    "        \n",
    "                \n",
    "        "
   ]
  },
  {
   "cell_type": "code",
   "execution_count": 249,
   "metadata": {},
   "outputs": [],
   "source": [
    "def tri2(tab,p):\n",
    "    candidate = 0\n",
    "    indice = 0\n",
    "    for k in range(len(tab)):\n",
    "        candidate = tab[k]\n",
    "        for i in range(k, len(tab)):\n",
    "            if tab[i][p]<= candidate[p]:\n",
    "                candidate = tab[i]\n",
    "                indice = i\n",
    "        u = tab[k]\n",
    "        tab[k] = tab[indice]; \n",
    "        tab[indice] = u;\n",
    "    return tab"
   ]
  },
  {
   "cell_type": "code",
   "execution_count": 250,
   "metadata": {},
   "outputs": [],
   "source": [
    "def alphabetic_sort(liste):\n",
    "    liste_number = []\n",
    "    final_liste = []\n",
    "    for k in range(len(liste)):\n",
    "        liste_number.append(dic[liste[k]])\n",
    "    liste_number = tri(liste_number)\n",
    "    for element in liste_number:\n",
    "        final_liste.append(list(dic.keys())[list(dic.values()).index(element)])\n",
    "    return final_liste\n",
    "    \n",
    "    \n",
    "    \n",
    "    "
   ]
  },
  {
   "cell_type": "code",
   "execution_count": 251,
   "metadata": {},
   "outputs": [],
   "source": [
    "def sort_word(liste,indice):\n",
    "    liste_element = []\n",
    "    liste_finale = []\n",
    "    for k in range(len(liste)):\n",
    "        element = (liste[k], dic[liste[k][indice]])\n",
    "        liste_element.append(element)\n",
    "    liste_element = tri2(liste_element, 1)\n",
    "    for element in liste_element:\n",
    "        liste_finale.append(element[0])\n",
    "    return(liste_finale)\n",
    "    \n",
    "        "
   ]
  },
  {
   "cell_type": "code",
   "execution_count": 252,
   "metadata": {},
   "outputs": [],
   "source": [
    "def same_n_letter(liste, indice):\n",
    "\n",
    "    lst = []\n",
    "    finale = []\n",
    "    i = 0\n",
    "    while i < len(liste):\n",
    "        lst2 = []\n",
    "        element = liste[i]\n",
    "        while i<len(liste) and liste[i][indice] == element[indice]:\n",
    "            lst2.append(liste[i])\n",
    "            i = i+1\n",
    "        lst.append(lst2)\n",
    "    \n",
    "    return(lst)"
   ]
  },
  {
   "cell_type": "code",
   "execution_count": 253,
   "metadata": {},
   "outputs": [],
   "source": [
    "def counting_sort(liste, number_letters): \n",
    "    liste = same_n_letter(sort_word(liste,0),0)\n",
    "\n",
    "    i = 0\n",
    "    while i<number_letters : \n",
    "        n_liste = []\n",
    "\n",
    "        for element in liste:\n",
    "            element = sort_word(element,i)\n",
    "            t = same_n_letter(element,i)\n",
    "\n",
    "            for k in t:\n",
    "                a= sort_word(k,i)\n",
    "                n_liste.append(a)\n",
    "\n",
    "        liste = n_liste\n",
    "        i = i+1\n",
    "    finale = []\n",
    "    for element in n_liste:\n",
    "        finale += element\n",
    "\n",
    "    return(finale)\n",
    "\n",
    "\n"
   ]
  },
  {
   "cell_type": "code",
   "execution_count": 257,
   "metadata": {},
   "outputs": [
    {
     "data": {
      "text/plain": [
       "['hello', 'salam', 'salem', 'zeros']"
      ]
     },
     "execution_count": 257,
     "metadata": {},
     "output_type": "execute_result"
    }
   ],
   "source": [
    "counting_sort(['hello', 'salam', 'salem', 'zeros'], 5)"
   ]
  },
  {
   "cell_type": "code",
   "execution_count": null,
   "metadata": {},
   "outputs": [],
   "source": []
  },
  {
   "cell_type": "code",
   "execution_count": null,
   "metadata": {},
   "outputs": [],
   "source": []
  }
 ],
 "metadata": {
  "kernelspec": {
   "display_name": "Python 3",
   "language": "python",
   "name": "python3"
  },
  "language_info": {
   "codemirror_mode": {
    "name": "ipython",
    "version": 3
   },
   "file_extension": ".py",
   "mimetype": "text/x-python",
   "name": "python",
   "nbconvert_exporter": "python",
   "pygments_lexer": "ipython3",
   "version": "3.7.3"
  }
 },
 "nbformat": 4,
 "nbformat_minor": 4
}
