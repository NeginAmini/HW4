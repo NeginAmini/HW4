{
 "cells": [
  {
   "cell_type": "code",
   "execution_count": 1,
   "metadata": {},
   "outputs": [],
   "source": [
    "import pandas as pd\n",
    "import numpy as np\n",
    "import math\n",
    "import time"
   ]
  },
  {
   "cell_type": "code",
   "execution_count": null,
   "metadata": {},
   "outputs": [],
   "source": [
    "#with open(\"C:\\\\Users\\\\Nino\\\\ADM HW4\\\\passwords1.txt\", 'r') as file :\n",
    "    #df = pd.DataFrame(file.read().split(\"\\n\"), columns = [\"pass1\"])"
   ]
  },
  {
   "cell_type": "code",
   "execution_count": null,
   "metadata": {},
   "outputs": [],
   "source": [
    "#with open(\"C:\\\\Users\\\\Nino\\\\ADM HW4\\\\passwords2.txt\", 'r') as file :\n",
    "    #df[\"pass2\"] = file.read().split(\"\\n\")"
   ]
  },
  {
   "cell_type": "code",
   "execution_count": null,
   "metadata": {},
   "outputs": [],
   "source": [
    "#len(df[\"pass1\"])"
   ]
  },
  {
   "cell_type": "code",
   "execution_count": null,
   "metadata": {},
   "outputs": [],
   "source": [
    "#len(df[\"pass2\"])"
   ]
  },
  {
   "cell_type": "markdown",
   "metadata": {},
   "source": [
    "for implementing bloom filter, first we need to difine indipendent hash functions. Each hash function should get a string(passwords here) as number and return an integer. We decide to define 2 hash functions and build the bloom filter based on them. In the first hash function we get the ASCII code of password by multiplying the ASCII code of each character with 37 power the position of the character. Then to get indexes from these hash numbers we calculate the modular value over the first prime number after the lenght of our file(100000000).  "
   ]
  },
  {
   "cell_type": "code",
   "execution_count": 2,
   "metadata": {},
   "outputs": [],
   "source": [
    "def hash_fun1 (string):\n",
    "    hashdict = dict()\n",
    "    h = [ord(i) for i in string]\n",
    "    hashnumber = sum([(37**h.index(i))*i for i in h])% 100000007\n",
    "    hashdict[string] = hashnumber\n",
    "    return(hashdict)\n",
    "    \n",
    "    "
   ]
  },
  {
   "cell_type": "code",
   "execution_count": 3,
   "metadata": {},
   "outputs": [
    {
     "data": {
      "text/plain": [
       "33987287"
      ]
     },
     "execution_count": 3,
     "metadata": {},
     "output_type": "execute_result"
    }
   ],
   "source": [
    "hash_fun1('b*ZB/egd=!XcvV>K(qY@')['b*ZB/egd=!XcvV>K(qY@']"
   ]
  },
  {
   "cell_type": "markdown",
   "metadata": {},
   "source": [
    "In the first hash function we get the ASCII code of each password by multiplying the ASCII code of each character with 37 power the difference of  character's position and 20. To get indexes from this number, we calculate the modular value over the first prime number after 100000000"
   ]
  },
  {
   "cell_type": "code",
   "execution_count": 4,
   "metadata": {},
   "outputs": [],
   "source": [
    "def hash_fun2 (string):\n",
    "    hashdict = dict()\n",
    "    h = [ord(i) for i in string]\n",
    "    hashnumber = sum([(37**(20 - h.index(i)))*i for i in h])% 100000007\n",
    "    hashdict[string] = hashnumber\n",
    "    return(hashdict)"
   ]
  },
  {
   "cell_type": "code",
   "execution_count": 5,
   "metadata": {},
   "outputs": [
    {
     "data": {
      "text/plain": [
       "{'b*ZB/egd=!XcvV>K(qY@': 75648607}"
      ]
     },
     "execution_count": 5,
     "metadata": {},
     "output_type": "execute_result"
    }
   ],
   "source": [
    "hash_fun2('b*ZB/egd=!XcvV>K(qY@')"
   ]
  },
  {
   "cell_type": "markdown",
   "metadata": {},
   "source": [
    "The third hash function concatenate ASCII codes of each 4 characters of the password, then calculate the sum of that value and at last return the modualar value over the first prime number after the lenght of our file"
   ]
  },
  {
   "cell_type": "code",
   "execution_count": 6,
   "metadata": {},
   "outputs": [],
   "source": [
    "def hash_fun3 (string) :\n",
    "    hashdict = dict()\n",
    "    h = [ord(i) for i in string]\n",
    "    hashnumber = 0\n",
    "    for i in range(0,5):\n",
    "        s=\"\".join(map(str, h[4*i : 4*i + 4]))\n",
    "        try :\n",
    "            hashnumber += int(s)\n",
    "        except :\n",
    "            pass\n",
    "        hashnumber = hashnumber % 100000007\n",
    "        hashdict[string] = hashnumber\n",
    "        \n",
    "    return(hashdict)    "
   ]
  },
  {
   "cell_type": "code",
   "execution_count": 7,
   "metadata": {},
   "outputs": [
    {
     "data": {
      "text/plain": [
       "{'b*ZB/egd=!XcvV>K(qY@': 80872965}"
      ]
     },
     "execution_count": 7,
     "metadata": {},
     "output_type": "execute_result"
    }
   ],
   "source": [
    "hash_fun3('b*ZB/egd=!XcvV>K(qY@')"
   ]
  },
  {
   "cell_type": "markdown",
   "metadata": {},
   "source": [
    "Now, it's time to implement our bloom filter. we take an array of size m = 400,000,000 with all elements equal to 0, and for each password in password1 file we update the array"
   ]
  },
  {
   "cell_type": "code",
   "execution_count": 12,
   "metadata": {},
   "outputs": [],
   "source": [
    "n = 100000000\n",
    "m = n * 4\n",
    "bfilter = np.zeros(m,int)"
   ]
  },
  {
   "cell_type": "code",
   "execution_count": 13,
   "metadata": {},
   "outputs": [],
   "source": [
    "def update_filter(array) :\n",
    "    with open(\"passwords1.txt\", 'r') as file :\n",
    "            for line in file :\n",
    "                array[hash_fun1(line)[line]] = 1\n",
    "                array[hash_fun2(line)[line]] = 1\n",
    "                array[hash_fun3(line)[line]] = 1\n",
    "    np.savetxt(\"bloomfilter.csv\", array , fmt='%10d', delimiter=\",\")"
   ]
  },
  {
   "cell_type": "code",
   "execution_count": 14,
   "metadata": {},
   "outputs": [],
   "source": [
    "def search_filter(array) :\n",
    "    counter = 0\n",
    "    with open(\"passwords2.txt\", 'r') as file :\n",
    "        for line in file :\n",
    "            if(array[hash_fun1(line)[line]] == 1  and  array[hash_fun2(line)[line]] == 1\n",
    "              and array[hash_fun3(line)[line]] == 1) :\n",
    "                counter += 1\n",
    "    return(counter)       "
   ]
  },
  {
   "cell_type": "code",
   "execution_count": 15,
   "metadata": {},
   "outputs": [],
   "source": [
    "def bloom_filter(array):\n",
    "    start = time.time()\n",
    "    update_filter(array)\n",
    "    duplicates = search_filter(array)\n",
    "    end = time.time()\n",
    "    runtime = end - start\n",
    "    return(duplicates,runtime)\n",
    "    "
   ]
  },
  {
   "cell_type": "code",
   "execution_count": 16,
   "metadata": {},
   "outputs": [],
   "source": [
    "duplicates,runtime = bloom_filter(bfilter)"
   ]
  },
  {
   "cell_type": "code",
   "execution_count": 20,
   "metadata": {},
   "outputs": [
    {
     "data": {
      "text/plain": [
       "0.14689159766038104"
      ]
     },
     "execution_count": 20,
     "metadata": {},
     "output_type": "execute_result"
    }
   ],
   "source": [
    "k = 3 #number of hash functions\n",
    "n = 100000000 #elemnts in bloom filter\n",
    "m = n*4 #size of bit array\n",
    "p = pow(1 - math.exp(-k / (m / n)), k) #probability of false positive\n",
    "p"
   ]
  },
  {
   "cell_type": "code",
   "execution_count": 21,
   "metadata": {},
   "outputs": [
    {
     "name": "stdout",
     "output_type": "stream",
     "text": [
      "Number of hash function used:  3\n",
      "Number of duplicates detected:  35450858\n",
      "Probability of false positives:  0.14689159766038104\n",
      "Execution time:  5766.666255474091\n"
     ]
    }
   ],
   "source": [
    "print('Number of hash function used: ', k)\n",
    "print('Number of duplicates detected: ', duplicates)\n",
    "print('Probability of false positives: ', p)\n",
    "print('Execution time: ', runtime)"
   ]
  },
  {
   "cell_type": "code",
   "execution_count": null,
   "metadata": {},
   "outputs": [],
   "source": []
  }
 ],
 "metadata": {
  "kernelspec": {
   "display_name": "Python 3",
   "language": "python",
   "name": "python3"
  },
  "language_info": {
   "codemirror_mode": {
    "name": "ipython",
    "version": 3
   },
   "file_extension": ".py",
   "mimetype": "text/x-python",
   "name": "python",
   "nbconvert_exporter": "python",
   "pygments_lexer": "ipython3",
   "version": "3.7.4"
  }
 },
 "nbformat": 4,
 "nbformat_minor": 2
}
