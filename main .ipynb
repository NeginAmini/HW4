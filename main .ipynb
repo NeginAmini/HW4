{
 "cells": [
  {
   "cell_type": "markdown",
   "metadata": {},
   "source": [
    "# HW4 - Group 10"
   ]
  },
  {
   "cell_type": "markdown",
   "metadata": {},
   "source": [
    "## 1) Hashing Task"
   ]
  },
  {
   "cell_type": "code",
   "execution_count": 1,
   "metadata": {},
   "outputs": [],
   "source": [
    "import pandas as pd\n",
    "import numpy as np\n",
    "import math\n",
    "import time\n",
    "import sympy"
   ]
  },
  {
   "cell_type": "markdown",
   "metadata": {},
   "source": [
    "we make a list of sorted passwords which we are gonna use later for finding the number of false positives "
   ]
  },
  {
   "cell_type": "code",
   "execution_count": 2,
   "metadata": {},
   "outputs": [],
   "source": [
    "sortpass = sorted(open(\"passwords1.txt\").read().splitlines())"
   ]
  },
  {
   "cell_type": "code",
   "execution_count": 3,
   "metadata": {},
   "outputs": [],
   "source": [
    "#with open(\"C:\\\\Users\\\\Nino\\\\ADM HW4\\\\passwords1.txt\", 'r') as file :\n",
    "    #df = pd.DataFrame(file.read().split(\"\\n\"), columns = [\"pass1\"])"
   ]
  },
  {
   "cell_type": "code",
   "execution_count": 4,
   "metadata": {},
   "outputs": [],
   "source": [
    "#with open(\"C:\\\\Users\\\\Nino\\\\ADM HW4\\\\passwords2.txt\", 'r') as file :\n",
    "    #df[\"pass2\"] = file.read().split(\"\\n\")"
   ]
  },
  {
   "cell_type": "code",
   "execution_count": 5,
   "metadata": {},
   "outputs": [],
   "source": [
    "#len(df[\"pass1\"])"
   ]
  },
  {
   "cell_type": "code",
   "execution_count": 6,
   "metadata": {},
   "outputs": [],
   "source": [
    "#len(df[\"pass2\"])"
   ]
  },
  {
   "cell_type": "markdown",
   "metadata": {},
   "source": [
    "for implementing bloom filter, first we need to difine indipendent hash functions. Each hash function should get a string(passwords here) as number and return an integer. We decided to define 4 hash functions and build the bloom filter based on them. In the first hash function we get the ASCII code of password by multiplying the ASCII code of each character with 37 power the position of the character. Then to get indexes from these hash numbers we calculate the modular value over the size of bit array. We decided to choose the size of bit array 6 times bigger than number of elements in the password1 file, and in order to have uniformity in our bloom filter we pick the first prime number after 6*n which is 600000001 (explanation about choosing this number is in the later sections)"
   ]
  },
  {
   "cell_type": "code",
   "execution_count": 7,
   "metadata": {},
   "outputs": [],
   "source": [
    "def hash_fun1 (string):\n",
    "    h = [ord(i) for i in string]\n",
    "    hashnumber = sum([(37**h.index(i))*i for i in h])% 600000001\n",
    "    return(hashnumber)\n",
    "    \n",
    "    "
   ]
  },
  {
   "cell_type": "code",
   "execution_count": 8,
   "metadata": {},
   "outputs": [
    {
     "data": {
      "text/plain": [
       "544418264"
      ]
     },
     "execution_count": 8,
     "metadata": {},
     "output_type": "execute_result"
    }
   ],
   "source": [
    "hash_fun1('b*ZB/egd=!XcvV>K(qY@')"
   ]
  },
  {
   "cell_type": "markdown",
   "metadata": {},
   "source": [
    "In the first hash function we get the ASCII code of each password by multiplying the ASCII code of each character with 37 power the difference of  character's position and 20. To get indexes from this number, we calculate the modular value over the size of bit array"
   ]
  },
  {
   "cell_type": "code",
   "execution_count": 9,
   "metadata": {},
   "outputs": [],
   "source": [
    "def hash_fun2 (string):\n",
    "    h = [ord(i) for i in string]\n",
    "    hashnumber = sum([(37**(20 - h.index(i)))*i for i in h])% 600000001\n",
    "    return(hashnumber)"
   ]
  },
  {
   "cell_type": "code",
   "execution_count": 10,
   "metadata": {},
   "outputs": [
    {
     "data": {
      "text/plain": [
       "265687178"
      ]
     },
     "execution_count": 10,
     "metadata": {},
     "output_type": "execute_result"
    }
   ],
   "source": [
    "hash_fun2('b*ZB/egd=!XcvV>K(qY@')"
   ]
  },
  {
   "cell_type": "markdown",
   "metadata": {},
   "source": [
    "The third hash function concatenate ASCII codes of each 4 characters of the password, then calculate the sum of that value and at last return the modualar value over the size of bit array"
   ]
  },
  {
   "cell_type": "code",
   "execution_count": 11,
   "metadata": {},
   "outputs": [],
   "source": [
    "def hash_fun3 (string) :\n",
    "    h = [ord(i) for i in string]\n",
    "    hashnumber = 0\n",
    "    for i in range(0,5):\n",
    "        s=\"\".join(map(str, h[4*i : 4*i + 4]))\n",
    "        try :\n",
    "            hashnumber += int(s)\n",
    "        except :\n",
    "            pass\n",
    "        hashnumber = hashnumber % 600000001\n",
    "        \n",
    "    return(hashnumber)    "
   ]
  },
  {
   "cell_type": "code",
   "execution_count": 12,
   "metadata": {},
   "outputs": [
    {
     "data": {
      "text/plain": [
       "380876225"
      ]
     },
     "execution_count": 12,
     "metadata": {},
     "output_type": "execute_result"
    }
   ],
   "source": [
    "hash_fun3('b*ZB/egd=!XcvV>K(qY@')"
   ]
  },
  {
   "cell_type": "markdown",
   "metadata": {},
   "source": [
    "The fourth hash function concatenate ASCII codes of each 5 characters of the password, then calculate the sum of that value and at last return the modualar value over the size of bit array"
   ]
  },
  {
   "cell_type": "code",
   "execution_count": 13,
   "metadata": {},
   "outputs": [],
   "source": [
    "def hash_fun4 (string) :\n",
    "    h = [ord(i) for i in string]\n",
    "    hashnumber = 0\n",
    "    for i in range(0,4):\n",
    "        s=\"\".join(map(str, h[5*i : 5*i + 5]))\n",
    "        try :\n",
    "            hashnumber += int(s)\n",
    "        except :\n",
    "            pass\n",
    "        hashnumber = hashnumber % 600000001\n",
    "        \n",
    "    return(hashnumber)  "
   ]
  },
  {
   "cell_type": "code",
   "execution_count": 14,
   "metadata": {},
   "outputs": [
    {
     "data": {
      "text/plain": [
       "266238431"
      ]
     },
     "execution_count": 14,
     "metadata": {},
     "output_type": "execute_result"
    }
   ],
   "source": [
    "hash_fun4('b*ZB/egd=!XcvV>K(qY@')"
   ]
  },
  {
   "cell_type": "code",
   "execution_count": 15,
   "metadata": {},
   "outputs": [],
   "source": [
    "n = 100000000\n",
    "m = (sympy.nextprime(6*n))\n",
    "#print(m)\n",
    "bfilter = np.zeros(m,int)"
   ]
  },
  {
   "cell_type": "markdown",
   "metadata": {},
   "source": [
    "Now, it's time to implement our bloom filter. we take an array of size m = 600000001 with all elements equal to 0, and for each password in password1 file we update the array"
   ]
  },
  {
   "cell_type": "code",
   "execution_count": 16,
   "metadata": {},
   "outputs": [],
   "source": [
    "# this function change 0 to 1 in our bit array in indexes of 4 hashnumbers we get for each password\n",
    "def update_filter(array) :\n",
    "    with open(\"passwords1.txt\", 'r') as file :\n",
    "            for line in file :\n",
    "                array[hash_fun1(line)] = 1\n",
    "                array[hash_fun2(line)] = 1\n",
    "                array[hash_fun3(line)] = 1\n",
    "                array[hash_fun4(line)] = 1\n",
    "   "
   ]
  },
  {
   "cell_type": "markdown",
   "metadata": {},
   "source": [
    "We create a Binary search function which we are gonna use for finding the number of False positives for the bonus part. "
   ]
  },
  {
   "cell_type": "code",
   "execution_count": 17,
   "metadata": {},
   "outputs": [],
   "source": [
    "# This function will return 1 if the value exist in the array and 0 if the value does not exist\n",
    "def BinarySearch(array, val):\n",
    "    first = 0\n",
    "    last = len(array)-1\n",
    "    while (first <= last) :\n",
    "        mid = (first+last)//2\n",
    "        if array[mid] == val:\n",
    "            return(1)\n",
    "        \n",
    "        elif val < array[mid]:\n",
    "            last = mid -1\n",
    "            \n",
    "        else:\n",
    "            first = mid +1\n",
    "    return (0)"
   ]
  },
  {
   "cell_type": "markdown",
   "metadata": {},
   "source": [
    "Now, we want to implement a search filter, which for each password check whether all 4 hash numbers exist in the bit array and if it does it would increase the counter by 1. Also we decided to do the bonus part here, so for each password in password2 file we do binary search in the sorted list of password1 to see if that password exist or not. We used binary search because it's time efficient"
   ]
  },
  {
   "cell_type": "code",
   "execution_count": 18,
   "metadata": {},
   "outputs": [],
   "source": [
    "def search_filter(array) :\n",
    "    counter = 0\n",
    "    Truepos = 0\n",
    "    with open(\"passwords2.txt\", 'r') as file :\n",
    "        for line in file :\n",
    "            if(array[hash_fun1(line)] == 1  and  array[hash_fun2(line)] == 1\n",
    "              and array[hash_fun3(line)] == 1 and array[hash_fun4(line)] == 1) :\n",
    "                counter += 1\n",
    "                Truepos += BinarySearch(sortpass, line.replace(\"\\n\",\"\")) \n",
    "                \n",
    "    return(counter,Truepos)       "
   ]
  },
  {
   "cell_type": "markdown",
   "metadata": {},
   "source": [
    "For deciding about the size of our bit array, I used the formula k = m * ln(2)/n for k=4 and n = 100000000. This equation gives approximate 6*n for size of our bit array. For having more uniformity in our filter, I pick the next prime numer aftr 6 * n as the size of our bit array\n",
    "\n",
    "\n"
   ]
  },
  {
   "cell_type": "code",
   "execution_count": 19,
   "metadata": {},
   "outputs": [],
   "source": [
    "def bloom_filter(array):\n",
    "    k = 4 #number of hash functions\n",
    "    n = 100000000 #elemnts in bloom filter\n",
    "    m = 600000001 #size of bit array\n",
    "    p = pow(1 - math.exp(-k / (m / n)), k) #probability of false positive\n",
    "    start = time.time()\n",
    "    update_filter(array)\n",
    "    duplicates = search_filter(array)[0]\n",
    "    Truepositive = search_filter(array)[1]\n",
    "    end = time.time()\n",
    "    runtime = end - start\n",
    "    print('Number of hash function used: ', k)\n",
    "    print('Number of duplicates detected: ', duplicates)\n",
    "    print('Probability of false positives: ', p)\n",
    "    print('Number of True duplicates is : ', Truepositive)\n",
    "    print('Number of false positives is : ' , duplicates - Truepositive )\n",
    "    print('Execution time: ', runtime)\n",
    "    \n",
    "    "
   ]
  },
  {
   "cell_type": "code",
   "execution_count": 20,
   "metadata": {},
   "outputs": [
    {
     "name": "stdout",
     "output_type": "stream",
     "text": [
      "Number of hash function used:  4\n",
      "Number of duplicates detected:  15402920\n",
      "Probability of false positives:  0.05605667057746283\n",
      "Number of True duplicates is :  14000000\n",
      "Number of false positives is :  1402920\n",
      "Execution time:  6996.77089548111\n"
     ]
    }
   ],
   "source": [
    "bloom_filter(bfilter)"
   ]
  },
  {
   "cell_type": "code",
   "execution_count": null,
   "metadata": {},
   "outputs": [],
   "source": []
  },
  {
   "cell_type": "code",
   "execution_count": null,
   "metadata": {},
   "outputs": [],
   "source": []
  },
  {
   "cell_type": "code",
   "execution_count": null,
   "metadata": {},
   "outputs": [],
   "source": []
  }
 ],
 "metadata": {
  "kernelspec": {
   "display_name": "Python 3",
   "language": "python",
   "name": "python3"
  },
  "language_info": {
   "codemirror_mode": {
    "name": "ipython",
    "version": 3
   },
   "file_extension": ".py",
   "mimetype": "text/x-python",
   "name": "python",
   "nbconvert_exporter": "python",
   "pygments_lexer": "ipython3",
   "version": "3.7.3"
  }
 },
 "nbformat": 4,
 "nbformat_minor": 2
}
